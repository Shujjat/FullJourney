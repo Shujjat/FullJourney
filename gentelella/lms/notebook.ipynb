{
 "cells": [
  {
   "cell_type": "code",
   "execution_count": 8,
   "id": "be477e04-a5df-4889-b037-b090f5640d72",
   "metadata": {},
   "outputs": [],
   "source": [
    "import re\n"
   ]
  },
  {
   "cell_type": "code",
   "execution_count": 12,
   "id": "dc8d0370-997b-4173-84cd-0a19de20a2d8",
   "metadata": {},
   "outputs": [
    {
     "name": "stdout",
     "output_type": "stream",
     "text": [
      "Type of text: <class 'str'>\n",
      "[]\n"
     ]
    }
   ],
   "source": [
    "def extract_chapters_and_items(text=None, text_file_path=None):\n",
    "\n",
    "    text_file_path = './books/Inter-I-Physics.txt'\n",
    "    if text_file_path:\n",
    "        with open(text_file_path, 'r', encoding='utf-8') as file:\n",
    "            text = file.read()\n",
    "\n",
    "        # Debug: Print type of text\n",
    "    print(f\"Type of text: {type(text)}\")\n",
    "\n",
    "    if not text:\n",
    "        return {\"error\": \"No text provided for processing.\"}\n",
    "    \n",
    "    chapters = []\n",
    "    current_chapter = None\n",
    "\n",
    "    lines = text.split(\"\\n\")\n",
    "    chapter_pattern = re.compile(r\"^Chapter \\d+:\\s*(.*)$\", re.IGNORECASE)  # Pattern for chapter names\n",
    "    item_pattern = re.compile(r\"^\\d+\\.\\s*(.*)$\")  # Pattern for items (numbered list)\n",
    "\n",
    "    for line in lines:\n",
    "        line = line.strip()\n",
    "\n",
    "        # Match chapter names\n",
    "        chapter_match = chapter_pattern.match(line)\n",
    "        if chapter_match:\n",
    "            if current_chapter:\n",
    "                chapters.append(current_chapter)\n",
    "            current_chapter = {\n",
    "                \"chapter_name\": chapter_match.group(1),\n",
    "                \"items\": []\n",
    "            }\n",
    "            continue\n",
    "\n",
    "        # Match items\n",
    "        item_match = item_pattern.match(line)\n",
    "        if item_match and current_chapter:\n",
    "            current_chapter[\"items\"].append(item_match.group(1))\n",
    "\n",
    "    # Append the last chapter\n",
    "    if current_chapter:\n",
    "        print(current_chapter)\n",
    "        chapters.append(current_chapter)\n",
    "\n",
    "    return chapters\n",
    "\n",
    "chapters=extract_chapters_and_items()\n",
    "print(chapters)"
   ]
  }
 ],
 "metadata": {
  "kernelspec": {
   "display_name": "Python 3 (ipykernel)",
   "language": "python",
   "name": "python3"
  },
  "language_info": {
   "codemirror_mode": {
    "name": "ipython",
    "version": 3
   },
   "file_extension": ".py",
   "mimetype": "text/x-python",
   "name": "python",
   "nbconvert_exporter": "python",
   "pygments_lexer": "ipython3",
   "version": "3.9.6"
  }
 },
 "nbformat": 4,
 "nbformat_minor": 5
}
